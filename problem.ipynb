{
 "cells": [
  {
   "cell_type": "markdown",
   "metadata": {},
   "source": [
    "### Problem Objective\n",
    "\n",
    "The goal of this problem is to create a grid, filled with buildings, roads, and empty spaces. The building cells must be contiguous and share the same ID. We also need to construct a graph based on the grid, where connections between roads and buildings are represented as edges, and the width of the roads defines the weight of those edges.\n",
    "\n",
    "#### How it works:\n",
    "- I chose the BFS (Breadth-First Search) algorithm to identify and mark cells belonging to the same building. \n",
    "\n",
    "- From the grid, we build a graph where vertices represent intersections and buildings, and edges represent connections between buildings. The weight of each edge is determined by the width of the road connecting the buildings.\n",
    "\n"
   ]
  },
  {
   "cell_type": "code",
   "execution_count": 9,
   "metadata": {},
   "outputs": [],
   "source": [
    "import random\n",
    "from collections import defaultdict, deque"
   ]
  },
  {
   "cell_type": "code",
   "execution_count": 10,
   "metadata": {},
   "outputs": [],
   "source": [
    "# Let's define the dimensions of the grid \n",
    "\n",
    "I = 50 # rows\n",
    "J = 50 # cols"
   ]
  },
  {
   "cell_type": "code",
   "execution_count": 11,
   "metadata": {},
   "outputs": [],
   "source": [
    "# Func to calc the road width\n",
    "\n",
    "width_cache = {}\n",
    "\n",
    "def calc_road_w(x, y, grid):\n",
    "    \"\"\"This func calculates the road width.\"\"\"\n",
    "    if (x, y) in width_cache:\n",
    "        return width_cache[(x, y)]\n",
    "\n",
    "    visited = set()\n",
    "    queue = [(x, y)]\n",
    "    width = 0\n",
    "\n",
    "    if grid[x][y] == \"ROAD\":\n",
    "        while queue:\n",
    "            cx, cy = queue.pop()\n",
    "            if (cx, cy) not in visited:\n",
    "                visited.add((cx, cy))\n",
    "                for dx, dy in [(-1, 0), (1, 0), (0, -1), (0, 1)]:\n",
    "                    nx, ny = cx + dx, cy + dy\n",
    "                    if 0 <= nx < len(grid) and 0 <= ny < len(grid[0]) and grid[nx][ny] == \"ROAD\" and (nx, ny) not in visited:\n",
    "                        queue.append((nx, ny))\n",
    "        width = len(visited)\n",
    "\n",
    "    width_cache[(x, y)] = width\n",
    "    return width\n"
   ]
  },
  {
   "cell_type": "code",
   "execution_count": 12,
   "metadata": {},
   "outputs": [],
   "source": [
    "def bfs_building(x, y, grid, building_id):\n",
    "    \"\"\"BFS to connect the buildings that have the same id.\"\"\"\n",
    "    visited = set()\n",
    "    queue = deque([(x, y)])\n",
    "    building_cells = []\n",
    "\n",
    "    while queue:\n",
    "        cx, cy = queue.popleft()\n",
    "        if (cx, cy) not in visited and grid[cx][cy] == building_id:\n",
    "            visited.add((cx, cy))\n",
    "            building_cells.append((cx, cy))\n",
    "            for dx, dy in [(-1, 0), (1, 0), (0, -1), (0, 1)]:\n",
    "                nx, ny = cx + dx, cy + dy\n",
    "                if 0 <= nx < len(grid) and 0 <= ny < len(grid[0]) and grid[nx][ny] == building_id:\n",
    "                    queue.append((nx, ny))\n",
    "    return building_cells"
   ]
  },
  {
   "cell_type": "code",
   "execution_count": 13,
   "metadata": {},
   "outputs": [],
   "source": [
    "\n",
    "def create_graph(grid, warehouses):\n",
    "    \"\"\"Generate the graph.\"\"\"\n",
    "    graph = defaultdict(list)\n",
    "    vertices = {}\n",
    "    vertex_id = 0\n",
    "\n",
    "    def add_vertex(x, y, type_, building_id=None):\n",
    "        nonlocal vertex_id\n",
    "        if (x, y) not in vertices:\n",
    "            vertices[(x, y)] = vertex_id\n",
    "            graph[vertex_id] = {\"type\": type_,\n",
    "                                \"edges\": [], \"building_id\": building_id}\n",
    "            vertex_id += 1\n",
    "        return vertices[(x, y)]\n",
    "\n",
    "    building_id_map = {}\n",
    "\n",
    "    for x, row in enumerate(grid):\n",
    "        for y, cell in enumerate(row):\n",
    "            if cell == \"ROAD\":\n",
    "                width = calc_road_w(x, y, grid)\n",
    "                add_vertex(x, y, \"ROAD\")\n",
    "            elif isinstance(cell, int):\n",
    "                if cell in warehouses:\n",
    "                    add_vertex(x, y, \"WAREHOUSE\")\n",
    "                else:\n",
    "                    if cell not in building_id_map:\n",
    "                        building_cells = bfs_building(x, y, grid, cell)\n",
    "                        building_vertex = add_vertex(\n",
    "                            building_cells[0][0], building_cells[0][1], \"BUILDING\", building_id=cell)\n",
    "                        building_id_map[cell] = building_vertex\n",
    "                        for cell_x, cell_y in building_cells:\n",
    "                            add_vertex(cell_x, cell_y, \"BUILDING\",\n",
    "                                       building_id=cell)\n",
    "                    else:\n",
    "                        add_vertex(x, y, \"BUILDING\", building_id=cell)\n",
    "\n",
    "    for (x1, y1), v1 in vertices.items():\n",
    "        for (x2, y2), v2 in vertices.items():\n",
    "            if (x1 == x2 and abs(y1 - y2) == 1) or (y1 == y2 and abs(x1 - x2) == 1):\n",
    "                width = calc_road_w(x1, y1, grid)\n",
    "                if grid[x2][y2] == \"ROAD\":\n",
    "                    graph[v1][\"edges\"].append((v2, width))\n",
    "                    graph[v2][\"edges\"].append((v1, width))\n",
    "                elif isinstance(grid[x2][y2], int) and grid[x2][y2] != \"ROAD\":\n",
    "                    graph[v1][\"edges\"].append((v2, width))\n",
    "                    graph[v2][\"edges\"].append((v1, width))\n",
    "\n",
    "    return graph, vertices"
   ]
  },
  {
   "cell_type": "code",
   "execution_count": 14,
   "metadata": {},
   "outputs": [],
   "source": [
    "def create_graphviz(graph):\n",
    "    \"\"\"Generate the Graphviz code to visualize the graph.\"\"\"\n",
    "    dot = \"graph G {\\n\"\n",
    "    for v, info in graph.items():\n",
    "        label = info[\"type\"]\n",
    "        building_id = info[\"building_id\"]\n",
    "        if building_id is not None:\n",
    "            # Exibe o ID do prédio como o rótulo\n",
    "            label = f\"Building {building_id}\"\n",
    "        dot += f'    {v} [label=\"{label}\"];\\n'\n",
    "    for v, info in graph.items():\n",
    "        for neighbor, width in info[\"edges\"]:\n",
    "            if v < neighbor:\n",
    "                dot += f'    {v} -- {neighbor} [label=\"Width: {width}\"];\\n'\n",
    "    dot += \"}\"\n",
    "    return dot"
   ]
  },
  {
   "cell_type": "code",
   "execution_count": 15,
   "metadata": {},
   "outputs": [],
   "source": [
    "def create_random_grid(rows, cols, rp=0.6, bp=0.35, wp=0.05):\n",
    "    \"\"\"Generates a random grid.\"\"\"\n",
    "    grid = []\n",
    "    warehouses = set()\n",
    "\n",
    "    for _ in range(rows):\n",
    "        row = []\n",
    "        for _ in range(cols):\n",
    "            rand = random.random()\n",
    "            if rand < rp:\n",
    "                row.append(\"ROAD\")\n",
    "            elif rand < rp + bp:\n",
    "                building_id = random.randint(1, 5000)\n",
    "                row.append(building_id)\n",
    "            else:\n",
    "                warehouse_id = random.randint(0, 10)\n",
    "                row.append(warehouse_id)\n",
    "                warehouses.add(warehouse_id)\n",
    "        grid.append(row)\n",
    "\n",
    "    return grid, warehouses"
   ]
  },
  {
   "cell_type": "code",
   "execution_count": 16,
   "metadata": {},
   "outputs": [],
   "source": [
    "\n",
    "grid, warehouses = create_random_grid(I, J)\n",
    "graph, vertices = create_graph(grid, warehouses)\n",
    "\n",
    "graphviz = create_graphviz(graph)\n",
    "\n",
    "\n",
    "with open(\"graphviz.txt\", \"w\", encoding=\"utf-8\") as f:\n",
    "    f.write(graphviz)"
   ]
  },
  {
   "cell_type": "code",
   "execution_count": null,
   "metadata": {},
   "outputs": [],
   "source": []
  }
 ],
 "metadata": {
  "kernelspec": {
   "display_name": "Python 3",
   "language": "python",
   "name": "python3"
  },
  "language_info": {
   "codemirror_mode": {
    "name": "ipython",
    "version": 3
   },
   "file_extension": ".py",
   "mimetype": "text/x-python",
   "name": "python",
   "nbconvert_exporter": "python",
   "pygments_lexer": "ipython3",
   "version": "3.12.7"
  }
 },
 "nbformat": 4,
 "nbformat_minor": 2
}
